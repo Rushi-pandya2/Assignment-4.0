{
  "nbformat": 4,
  "nbformat_minor": 0,
  "metadata": {
    "colab": {
      "provenance": [],
      "collapsed_sections": [
        "wx9aLepM07hY"
      ]
    },
    "kernelspec": {
      "name": "python3",
      "display_name": "Python 3"
    },
    "language_info": {
      "name": "python"
    }
  },
  "cells": [
    {
      "cell_type": "markdown",
      "source": [
        "#Theory Questions"
      ],
      "metadata": {
        "id": "wx9aLepM07hY"
      }
    },
    {
      "cell_type": "markdown",
      "source": [
        "1. What is Object-Oriented Programming (OOP)?\n",
        "   - Object-oriented programming is a programming paradigm that uses objects to create computer programs.\n",
        "\n",
        "2. What is a class in OOP?\n",
        "   - A class is a blueprint for creating objects in OOP.\n",
        "\n",
        "3. What is an object in OOP?\n",
        "   - A fundamental unit that combines attributes and functions that operate on data.\n",
        "\n",
        "4.  What is the difference between abstraction and encapsulation?\n",
        "   - Abstraction focuses on what an object does.\n",
        "   - Encapsulation focuses on how an object does it.\n",
        "\n",
        "5. What are the dunder methods in Python?\n",
        "   - Dunder methods are special methods in Python identified by their names being surrounded by double underscores.\n",
        "   - This method allows custom classes to integrate seamlessly with Python's built-in operations and features.\n",
        "\n",
        "6. Explain the concept of inheritance in OOP.\n",
        "   - Inheritance is a mechanism that allows a subclass to derive or inherit properties of a parent class.\n",
        "\n",
        "7. What is polymorphism in OOP?\n",
        "   - Polymorphism is the ability of an object to take on many forms. It allows to treat objects of different classes uniformly, using a common interface.\n",
        "   - It is also known as method overloading.\n",
        "\n",
        "8. How is encapsulation achieved in Python?\n",
        "   - Encapsulation is achieved by declaring a class's data members and methods as private or protected.\n",
        "\n",
        "9. What is a constructor in Python?\n",
        "   - A constructor is a special method used it initialize a newly created object of a class, also known as the __init__ method.\n",
        "\n",
        "10. What are class and static methods in Python?\n",
        "   - Class methods are associated with the class itself, not a specific instance.\n",
        "   - Static methods do not receive the instance (self) or the class (cls) as their first argument. They behave like regular functions but are logically grouped within a class.\n",
        "\n",
        "11.  What is method overloading in Python?\n",
        "   - Method overloading revers to the ability to define multiple methods within a single class that share the same name but can handle different parameters.\n",
        "   - Python does not support normal overloading method.\n",
        "\n",
        "12. What is method overriding in OOP?\n",
        "   - Method overriding is a concept of OOP where a subclass provides its specific implementation for a method that is already defined in its parent class.\n",
        "\n",
        "13. What is a property decorator in Python?\n",
        "   - The @property decorator is a built-in decorator that allows methods within a class to be accessed and manipulated as if they Were attributes.\n",
        "\n",
        "14. Why is polymorphism important in OOP?\n",
        "   - Polymorphism enables code reusability, flexibility, and modularity, making it easier to write, maintain, and extend complex software systems.\n",
        "\n",
        "15. What is an abstract class in Python?\n",
        "   - An Abstract class is a class that cannot be instantiated directly and is designed to be subclassed by other classes.\n",
        "\n",
        "16.  What are the advantages of OOP?\n",
        "   - The advantages of OOP are improved code organization, reusability, flexibility, and maintainability.  \n",
        "\n",
        "17. What is the difference between a class variable and an instance variable?\n",
        "  - Class variables are defined within the class but outside of any method.\n",
        "  - Instance variables are typically Defined within the __init__ Method of a class using the self keyword.\n",
        "\n",
        "18.  What is multiple inheritance in Python?\n",
        "   - Multiple inheritance in Python allows inheriting properties from multiple parent classes to a single child class.\n",
        "\n",
        "19. Explain the purpose of ‘__str__’ and ‘__repr__’ methods in Python.\n",
        "  - '__str__' Provides a user-friendly, readable string representation of an object. This is intended for displaying information to end-users or for logging.\n",
        "   - '__repr__' Provides an unambiguous, developer-friendly string representation of an object. This is used for debugging, introspection, and recreating the object's state.\n",
        "\n",
        "20.  What is the significance of the ‘super()’ function in Python?\n",
        "   - 'super()' is primarily used to facillitate the access and invocation of methods and properties of a parent or sibling class from Within a child or subclass.\n",
        "\n",
        "21.  What is the significance of the __del__ method in Python?\n",
        "    -  '__del__' holds significance as a mechanism for performing cleanup operations when an object is about ot be destroyed.\n",
        "\n",
        "22. What is the difference between @staticmethod and @classmethod in Python?\n",
        "   - @classmethod receives the class itself as its first argument, conventionally named cls.\n",
        "   - @staticmathod does not receive the class or instance as its first argument.\n",
        "\n",
        "23.  How does polymorphism work in Python with inheritance?\n",
        "   - Polymorphism works with inheritance using the overriding method in Python.\n",
        "\n",
        "24.  What is method chaining in Python OOP?\n",
        "  - Method chaining in Python is a technique that allows multiple methods to be called sequentially on The same object in a single line of code.\n",
        "\n",
        "25.  What is the purpose of the __call__ method in Python?\n",
        "   - The purpose of the __call__ method in Python is to make instances of a class callable, meaning they can be treated and invoked like functions.\n"
      ],
      "metadata": {
        "id": "FbTI0nsp07CQ"
      }
    },
    {
      "cell_type": "markdown",
      "source": [
        "#Practical Questions"
      ],
      "metadata": {
        "id": "VRBGxQWlxBoL"
      }
    },
    {
      "cell_type": "code",
      "source": [
        "# 1.  Create a parent class Animal with a method speak() that prints a generic message. Create a child class Dog\n",
        "# that overrides the speak() method to print \"Bark!\"\n",
        "\n",
        "class Animal():\n",
        "  def speak(self):\n",
        "    print(\"Hello I'm Animal\")\n",
        "\n",
        "class Dog(Animal):\n",
        "  def speak(self):\n",
        "    print(\"Bark!\")\n",
        "\n",
        "dog = Dog()\n",
        "dog.speak()\n",
        "a1= Animal()\n",
        "a1.speak()"
      ],
      "metadata": {
        "colab": {
          "base_uri": "https://localhost:8080/"
        },
        "id": "xCxEDC7uxExN",
        "outputId": "a510df40-37c1-448f-8177-86635c7dd655"
      },
      "execution_count": 2,
      "outputs": [
        {
          "output_type": "stream",
          "name": "stdout",
          "text": [
            "Bark!\n",
            "Hello I'm Animal\n"
          ]
        }
      ]
    },
    {
      "cell_type": "code",
      "source": [
        "# 2.  Write a program to create an abstract class Shape with a method area(). Derive classes Circle and Rectangle\n",
        "# from it and implement the area() method in both.\n",
        "\n",
        "from abc import ABC, abstractmethod\n",
        "\n",
        "class Shape(ABC):\n",
        "  @abstractmethod\n",
        "  def area(self):\n",
        "    pass\n",
        "\n",
        "class Circle(Shape):\n",
        "  def __init__(self, radius):\n",
        "    self.radius = radius\n",
        "\n",
        "  def area(self):\n",
        "    return 3.14 * self.radius * self.radius\n",
        "\n",
        "class Rectangle(Shape):\n",
        "  def __init__(self, length, width):\n",
        "    self.length = length\n",
        "    self.width = width\n",
        "\n",
        "  def area(self):\n",
        "    return self.length * self.width\n",
        "\n",
        "circle = Circle(5)\n",
        "print( \"Are of circle:\" , circle.area())\n",
        "\n",
        "rectangle = Rectangle(4, 6)\n",
        "print(\"Area of rectangle:\", rectangle.area())"
      ],
      "metadata": {
        "colab": {
          "base_uri": "https://localhost:8080/"
        },
        "id": "UAyzS2eGxm_-",
        "outputId": "0191284f-a595-46ab-c37d-8202a83a2d74"
      },
      "execution_count": 6,
      "outputs": [
        {
          "output_type": "stream",
          "name": "stdout",
          "text": [
            "Are of circle: 78.5\n",
            "Area of rectangle: 24\n"
          ]
        }
      ]
    },
    {
      "cell_type": "code",
      "source": [
        "#  3. Implement a multi-level inheritance scenario where a class Vehicle has an attribute type. Derive a class Car\n",
        "# and further derive a class ElectricCar that adds a battery attribute.\n",
        "\n",
        "class Vehicle:\n",
        "  def __init__(self, type):\n",
        "    self.type = type\n",
        "\n",
        "class Car(Vehicle):\n",
        "  def __init__(self, type, model):\n",
        "    super().__init__(type)\n",
        "    self.model = model\n",
        "\n",
        "class ElectricCar(Car):\n",
        "  def __init__(self, type, model, battery):\n",
        "    super().__init__(type, model)\n",
        "    self.battery = battery\n",
        "\n",
        "electric_car = ElectricCar(\"Electric\", \"Model S\", \"100 kWh\")\n",
        "print(\"Electric car:\")\n",
        "print(electric_car.type)\n",
        "print(electric_car.model)\n",
        "print(electric_car.battery)\n",
        "\n",
        "c1 = Car(\"Petrol\", \"Model X\")\n",
        "print(\"Car:\")\n",
        "print(c1.type)\n",
        "print(c1.model)"
      ],
      "metadata": {
        "colab": {
          "base_uri": "https://localhost:8080/"
        },
        "id": "xQ_Kg_4uygQB",
        "outputId": "fa922a11-902c-4d8d-cd95-0e3ed4b257ca"
      },
      "execution_count": 9,
      "outputs": [
        {
          "output_type": "stream",
          "name": "stdout",
          "text": [
            "Electric car:\n",
            "Electric\n",
            "Model S\n",
            "100 kWh\n",
            "Car:\n",
            "Petrol\n",
            "Model X\n"
          ]
        }
      ]
    },
    {
      "cell_type": "code",
      "source": [
        "#  4. Demonstrate polymorphism by creating a base class Bird with a method fly(). Create two derived classes\n",
        "# Sparrow and Penguin that override the fly() method.\n",
        "\n",
        "class Bird:\n",
        "  def fly(self):\n",
        "    print(\"Bird is flying\")\n",
        "\n",
        "class Sparrow(Bird):\n",
        "  def fly(self):\n",
        "    print(\"Sparrow is flying\")\n",
        "\n",
        "class Penguin(Bird):\n",
        "  def fly(self):\n",
        "    print(\"Penguin is not flying\")\n",
        "\n",
        "bird = Bird()\n",
        "bird.fly()\n",
        "\n",
        "sparrow = Sparrow()\n",
        "sparrow.fly()\n",
        "\n",
        "penguin = Penguin()\n",
        "penguin.fly()"
      ],
      "metadata": {
        "colab": {
          "base_uri": "https://localhost:8080/"
        },
        "id": "fLdfqsXUy5sE",
        "outputId": "b6c3a614-1219-4813-cf06-c636754109aa"
      },
      "execution_count": 11,
      "outputs": [
        {
          "output_type": "stream",
          "name": "stdout",
          "text": [
            "Bird is flying\n",
            "Sparrow is flying\n",
            "Penguin is not flying\n"
          ]
        }
      ]
    },
    {
      "cell_type": "code",
      "source": [
        "# 5. Write a program to demonstrate encapsulation by creating a class BankAccount with private attributes\n",
        "# balance and methods to deposit, withdraw, and check balance.\n",
        "\n",
        "class BankAccount:\n",
        "  def __init__(self, balance):\n",
        "    self.__balance = balance\n",
        "\n",
        "  def deposit(self, amount):\n",
        "    self.__balance += amount\n",
        "\n",
        "  def withdraw(self, amount):\n",
        "    if amount <= self.__balance:\n",
        "      self.__balance -= amount\n",
        "    else:\n",
        "      print(\"Insufficient balance\")\n",
        "\n",
        "  def check_balance(self):\n",
        "    return self.__balance\n",
        "\n",
        "account = BankAccount(1000)\n",
        "account.deposit(500)\n",
        "account.withdraw(200)\n",
        "print(\"Current balance:\", account.check_balance())\n",
        "\n"
      ],
      "metadata": {
        "colab": {
          "base_uri": "https://localhost:8080/"
        },
        "id": "hGoexL_ezJE0",
        "outputId": "49790755-3ff2-46f9-924c-d1e23dc6662c"
      },
      "execution_count": 14,
      "outputs": [
        {
          "output_type": "stream",
          "name": "stdout",
          "text": [
            "Current balance: 1300\n"
          ]
        }
      ]
    },
    {
      "cell_type": "code",
      "source": [
        "#  6. Demonstrate runtime polymorphism using a method play() in a base class Instrument. Derive classes Guitar\n",
        "# and Piano that implement their own version of play().\n",
        "\n",
        "class Instrument:\n",
        "  def play(self):\n",
        "    print(\"Instrument is playing\")\n",
        "\n",
        "class Guitar(Instrument):\n",
        "  def play(self):\n",
        "    print(\"Guitar is playing\")\n",
        "\n",
        "class Piano(Instrument):\n",
        "  def play(self):\n",
        "    print(\"Piano is playing\")\n",
        "\n",
        "instrument = Instrument()\n",
        "instrument.play()\n",
        "\n",
        "guitar = Guitar()\n",
        "guitar.play()\n",
        "\n",
        "piano = Piano()\n",
        "piano.play()"
      ],
      "metadata": {
        "colab": {
          "base_uri": "https://localhost:8080/"
        },
        "id": "De5CRTmCzeZs",
        "outputId": "4c54cd47-30a3-4e56-e76c-122ee482571f"
      },
      "execution_count": 16,
      "outputs": [
        {
          "output_type": "stream",
          "name": "stdout",
          "text": [
            "Instrument is playing\n",
            "Guitar is playing\n",
            "Piano is playing\n"
          ]
        }
      ]
    },
    {
      "cell_type": "code",
      "source": [
        "#  7. Create a class MathOperations with a class method add_numbers() to add two numbers and a static\n",
        "# method subtract_numbers() to subtract two numbers\n",
        "\n",
        "class MathOperations:\n",
        "  @classmethod\n",
        "  def add_numbers(cls, a, b):\n",
        "    return a + b\n",
        "\n",
        "  @staticmethod\n",
        "  def subtract_numbers(a, b):\n",
        "    return a - b\n",
        "\n",
        "  @staticmethod\n",
        "  def multiply_numbers(a, b):\n",
        "    return a * b\n",
        "\n",
        "  @staticmethod\n",
        "  def divide_numbers(a, b):\n",
        "    return a / b\n",
        "\n",
        "print( \"Sum :\"  ,MathOperations.add_numbers(5, 3))\n",
        "print(\"Sub:\",MathOperations.subtract_numbers(10, 4))\n",
        "print(\"Multiplication:\", MathOperations.multiply_numbers(6, 7))\n",
        "print(\"Divion:\",MathOperations.divide_numbers(15, 3))"
      ],
      "metadata": {
        "colab": {
          "base_uri": "https://localhost:8080/"
        },
        "id": "yVtqmZqFz7Wf",
        "outputId": "e292f2f9-feec-4a42-8252-da97b65ed572"
      },
      "execution_count": 19,
      "outputs": [
        {
          "output_type": "stream",
          "name": "stdout",
          "text": [
            "Sum : 8\n",
            "Sub: 6\n",
            "Multiplication: 42\n",
            "Divion: 5.0\n"
          ]
        }
      ]
    },
    {
      "cell_type": "code",
      "source": [
        "#  8. Implement a class Person with a class method to count the total number of persons created.\n",
        "\n",
        "class Person:\n",
        "  count = 0\n",
        "\n",
        "  def __init__(self, name, age):\n",
        "    self.name = name\n",
        "    self.age = age\n",
        "    Person.count += 1\n",
        "\n",
        "  @classmethod\n",
        "  def get_count(cls):\n",
        "    return cls.count\n",
        "\n",
        "person1 = Person(\"Alice\", 25)\n",
        "print(person1.name)\n",
        "print(person1.age)\n",
        "person2 = Person(\"Bob\", 30)\n",
        "print(person2.name)\n",
        "print(person2.age)\n",
        "print(\"Total persons:\", Person.get_count())"
      ],
      "metadata": {
        "colab": {
          "base_uri": "https://localhost:8080/"
        },
        "id": "sO_srQm-0hGD",
        "outputId": "5293d40b-e43e-45b3-e9e3-b72847ade221"
      },
      "execution_count": 22,
      "outputs": [
        {
          "output_type": "stream",
          "name": "stdout",
          "text": [
            "Alice\n",
            "25\n",
            "Bob\n",
            "30\n",
            "Total persons: 2\n"
          ]
        }
      ]
    },
    {
      "cell_type": "code",
      "source": [
        "#  9. Write a class Fraction with attributes numerator and denominator. Override the str method to display the\n",
        "# fraction as \"numerator/denominator\"\n",
        "\n",
        "class Fraction:\n",
        "  def __init__(self, numerator, denominator):\n",
        "    self.numerator = numerator\n",
        "    self.denominator = denominator\n",
        "\n",
        "  def __str__(self):\n",
        "    return f\"{self.numerator}/{self.denominator}\"\n",
        "\n",
        "fraction = Fraction(3, 45)\n",
        "print(fraction)\n"
      ],
      "metadata": {
        "colab": {
          "base_uri": "https://localhost:8080/"
        },
        "id": "wFmbs_8j00h1",
        "outputId": "c84660d2-9971-4b79-e393-210963550738"
      },
      "execution_count": 27,
      "outputs": [
        {
          "output_type": "stream",
          "name": "stdout",
          "text": [
            "3/45\n"
          ]
        }
      ]
    },
    {
      "cell_type": "code",
      "source": [
        "#  10. Demonstrate operator overloading by creating a class Vector and overriding the add method to add two\n",
        "# vectors.\n",
        "\n",
        "class Vector:\n",
        "  def __init__(self, x, y):\n",
        "    self.x = x\n",
        "    self.y = y\n",
        "\n",
        "  def __add__(self, other):\n",
        "    return Vector(self.x + other.x, self.y + other.y)\n",
        "\n",
        "  def __str__(self):\n",
        "    return f\"({self.x}, {self.y})\"\n",
        "\n",
        "vector1 = Vector(1, 2)\n",
        "vector2 = Vector(3, 4)\n",
        "result = vector1 + vector2\n",
        "print(result)\n"
      ],
      "metadata": {
        "colab": {
          "base_uri": "https://localhost:8080/"
        },
        "id": "fKdVzqgy1H3F",
        "outputId": "118bc930-d2b5-4398-f7a1-30e727afb7b6"
      },
      "execution_count": 29,
      "outputs": [
        {
          "output_type": "stream",
          "name": "stdout",
          "text": [
            "(4, 6)\n"
          ]
        }
      ]
    },
    {
      "cell_type": "code",
      "source": [
        "#  11. Create a class Person with attributes name and age. Add a method greet() that prints \"Hello, my name is\n",
        "# {name} and I am {age} years old.\"\n",
        "\n",
        "class Person:\n",
        "  def __init__(self, name, age):\n",
        "    self.name = name\n",
        "    self.age = age\n",
        "\n",
        "  def greet(self):\n",
        "    print(f\"Hello, my name is {self.name} and I am {self.age} years old.\")\n",
        "\n",
        "  def __str__(self):\n",
        "    return f\"Name: {self.name}, Age: {self.age}\"\n",
        "\n",
        "person = Person(\"Alice\", 25)\n",
        "print(person)\n",
        "person.greet()\n"
      ],
      "metadata": {
        "colab": {
          "base_uri": "https://localhost:8080/"
        },
        "id": "thDcxUuF1XNO",
        "outputId": "8f85e94d-3cb9-4362-b8b3-637ba30bace1"
      },
      "execution_count": 31,
      "outputs": [
        {
          "output_type": "stream",
          "name": "stdout",
          "text": [
            "Name: Alice, Age: 25\n",
            "Hello, my name is Alice and I am 25 years old.\n"
          ]
        }
      ]
    },
    {
      "cell_type": "code",
      "source": [
        "#  12. Implement a class Student with attributes name and grades. Create a method average_grade() to compute\n",
        "# the average of the grades\n",
        "\n",
        "class Student:\n",
        "  def __init__(self, name, grades):\n",
        "    self.name = name\n",
        "    self.grades = grades\n",
        "\n",
        "  def average_grade(self):\n",
        "    return sum(self.grades) / len(self.grades)\n",
        "\n",
        "  def __str__(self):\n",
        "    return f\"Name: {self.name}, Grades: {self.grades}\"\n",
        "\n",
        "student = Student(\"Alice\", [85, 90, 78, 92])\n",
        "print(student)"
      ],
      "metadata": {
        "colab": {
          "base_uri": "https://localhost:8080/"
        },
        "id": "yc1vJdlL1jXL",
        "outputId": "90584477-d09b-4345-d4c4-9bb2ddb06cb0"
      },
      "execution_count": 33,
      "outputs": [
        {
          "output_type": "stream",
          "name": "stdout",
          "text": [
            "Name: Alice, Grades: [85, 90, 78, 92]\n"
          ]
        }
      ]
    },
    {
      "cell_type": "code",
      "source": [
        "#  13. Create a class Rectangle with methods set_dimensions() to set the dimensions and area() to calculate the\n",
        "# area\n",
        "\n",
        "class Rectangle:\n",
        "  def __init__(self, length, width):\n",
        "    self.length = length\n",
        "    self.width = width\n",
        "\n",
        "  def set_dimensions(self, length, width):\n",
        "    self.length = length\n",
        "    self.width = width\n",
        "\n",
        "  def area(self):\n",
        "    return self.length * self.width\n",
        "\n",
        "rectangle = Rectangle(4, 6)\n",
        "print(\"Area:\", rectangle.area())\n",
        "print(\"Before setting dimensions:\")\n",
        "print(\"Length:\", rectangle.length)\n",
        "print(\"Width:\", rectangle.width)\n",
        "rectangle.set_dimensions(5, 7)\n",
        "print(\"After setting dimensions:\")\n",
        "print(\"Length:\", rectangle.length)\n",
        "print(\"Width:\", rectangle.width)"
      ],
      "metadata": {
        "colab": {
          "base_uri": "https://localhost:8080/"
        },
        "id": "8Kzk5XLz15e0",
        "outputId": "7bd3f192-aa3f-428c-a21b-7783a9aa9784"
      },
      "execution_count": 35,
      "outputs": [
        {
          "output_type": "stream",
          "name": "stdout",
          "text": [
            "Area: 24\n",
            "Before setting dimensions:\n",
            "Length: 4\n",
            "Width: 6\n",
            "After setting dimensions:\n",
            "Length: 5\n",
            "Width: 7\n"
          ]
        }
      ]
    },
    {
      "cell_type": "code",
      "source": [
        "#  14. Create a class Employee with a method calculate_salary() that computes the salary based on hours worked\n",
        "# and hourly rate. Create a derived class Manager that adds a bonus to the salary.\n",
        "\n",
        "class Employee:\n",
        "  def __init__(self, name, hours_worked, hourly_rate):\n",
        "    self.name = name\n",
        "    self.hours_worked = hours_worked\n",
        "    self.hourly_rate = hourly_rate\n",
        "\n",
        "  def calculate_salary(self):\n",
        "    return self.hours_worked * self.hourly_rate\n",
        "\n",
        "  def __str__(self):\n",
        "    return f\"Name: {self.name}, Hours Worked: {self.hours_worked}, Hourly Rate: {self.hourly_rate}\"\n",
        "\n",
        "class Manager(Employee):\n",
        "  def __init__(self, name, hours_worked, hourly_rate, bonus):\n",
        "    super().__init__(name, hours_worked, hourly_rate)\n",
        "    self.bonus = bonus\n",
        "\n",
        "  def calculate_salary(self):\n",
        "    base_salary = super().calculate_salary()\n",
        "    return base_salary + self.bonus\n",
        "\n",
        "  def __str__(self):\n",
        "    return f\"Name: {self.name}, Hours Worked: {self.hours_worked}, Hourly Rate: {self.hourly_rate}, Bonus: {self.bonus}\"\n",
        "\n",
        "employee = Employee(\"Alice\", 40, 15)\n",
        "print(employee)\n",
        "print(\"Salary:\", employee.calculate_salary())\n",
        "manager = Manager(\"Bob\", 30, 20, 5000)\n",
        "print(manager)\n",
        "print(\"Salary:\", manager.calculate_salary())\n",
        "\n"
      ],
      "metadata": {
        "colab": {
          "base_uri": "https://localhost:8080/"
        },
        "id": "WZt_Jtfy2K5Y",
        "outputId": "5e41d5fe-13de-4383-c6c6-eb58877d3f14"
      },
      "execution_count": 41,
      "outputs": [
        {
          "output_type": "stream",
          "name": "stdout",
          "text": [
            "Name: Alice, Hours Worked: 40, Hourly Rate: 15\n",
            "Salary: 600\n",
            "Name: Bob, Hours Worked: 30, Hourly Rate: 20, Bonus: 5000\n",
            "Salary: 5600\n"
          ]
        }
      ]
    },
    {
      "cell_type": "code",
      "source": [
        "# 15. Create a class Product with attributes name, price, and quantity. Implement a method total_price() that\n",
        "# calculates the total price of the product.\n",
        "\n",
        "class Product:\n",
        "  def __init__(self, name, price, quantity):\n",
        "    self.name = name\n",
        "    self.price = price\n",
        "    self.quantity = quantity\n",
        "\n",
        "  def total_price(self):\n",
        "    return self.price * self.quantity\n",
        "\n",
        "  def __str__(self):\n",
        "    return f\"Name: {self.name}, Price: {self.price}, Quantity: {self.quantity}\"\n",
        "\n",
        "product = Product(\"Laptop\", 1000, 2)\n",
        "print(product)\n",
        "print(\"Total Price:\", product.total_price())"
      ],
      "metadata": {
        "colab": {
          "base_uri": "https://localhost:8080/"
        },
        "id": "g2OWjR9M3Ww0",
        "outputId": "a10b7c1a-ec81-4f4c-a01a-fc1c331d2d3b"
      },
      "execution_count": 43,
      "outputs": [
        {
          "output_type": "stream",
          "name": "stdout",
          "text": [
            "Name: Laptop, Price: 1000, Quantity: 2\n",
            "Total Price: 2000\n"
          ]
        }
      ]
    },
    {
      "cell_type": "code",
      "source": [
        "#  16. Create a class Animal with an abstract method sound(). Create two derived classes Cow and Sheep that\n",
        "# implement the sound() method\n",
        "\n",
        "class Animal:\n",
        "  def sound(self):\n",
        "    pass\n",
        "\n",
        "class Cow(Animal):\n",
        "  def sound(self):\n",
        "    print(\"Moo!\")\n",
        "\n",
        "class Sheep(Animal):\n",
        "  def sound(self):\n",
        "    print(\"Baa!\")\n",
        "\n",
        "cow = Cow()\n",
        "cow.sound()\n",
        "\n",
        "sheep = Sheep()\n",
        "sheep.sound()"
      ],
      "metadata": {
        "colab": {
          "base_uri": "https://localhost:8080/"
        },
        "id": "BAdgCmkS3kNS",
        "outputId": "84114186-e8e1-4bd0-ec8b-3891b3450092"
      },
      "execution_count": 45,
      "outputs": [
        {
          "output_type": "stream",
          "name": "stdout",
          "text": [
            "Moo!\n",
            "Baa!\n"
          ]
        }
      ]
    },
    {
      "cell_type": "code",
      "source": [
        "#  17. Create a class Book with attributes title, author, and year_published. Add a method get_book_info() that\n",
        "# returns a formatted string with the book's details\n",
        "\n",
        "class Book:\n",
        "  def __init__(self, title, author, year_published):\n",
        "    self.title = title\n",
        "    self.author = author\n",
        "    self.year_published = year_published\n",
        "\n",
        "  def get_book_info(self):\n",
        "    return f\"Title: {self.title}, Author: {self.author}, Year Published: {self.year_published}\"\n",
        "\n",
        "  def __str__(self):\n",
        "    return f\"Title: {self.title}, Author: {self.author}, Year Published: {self.year_published}\"\n",
        "\n",
        "book = Book(\"The Great Gatsby\", \"F. Scott Fitzgerald\", 1925)\n",
        "print(book)"
      ],
      "metadata": {
        "colab": {
          "base_uri": "https://localhost:8080/"
        },
        "id": "wu5_nxAT4AJ_",
        "outputId": "375d036e-08db-4bf8-bf71-6518c23db32e"
      },
      "execution_count": 48,
      "outputs": [
        {
          "output_type": "stream",
          "name": "stdout",
          "text": [
            "Title: The Great Gatsby, Author: F. Scott Fitzgerald, Year Published: 1925\n"
          ]
        }
      ]
    },
    {
      "cell_type": "code",
      "source": [
        "#  18. Create a class House with attributes address and price. Create a derived class Mansion that adds an\n",
        "# attribute number_of_rooms.\n",
        "\n",
        "class House:\n",
        "  def __init__(self, address, price):\n",
        "    self.address = address\n",
        "    self.price = price\n",
        "\n",
        "  def __str__(self):\n",
        "    return f\"Address: {self.address}, Price: {self.price}\"\n",
        "\n",
        "class Mansion(House):\n",
        "  def __init__(self, address, price, number_of_rooms):\n",
        "    super().__init__(address, price)\n",
        "    self.number_of_rooms = number_of_rooms\n",
        "\n",
        "  def __str__(self):\n",
        "    return f\"Address: {self.address}, Price: {self.price}, Number of Rooms: {self.number_of_rooms}\"\n",
        "\n",
        "house = House(\"123 Main St\", 250000)\n",
        "print(house)\n",
        "mansion = Mansion(\"456 Elm St\", 500000, 8)\n",
        "print(mansion)\n"
      ],
      "metadata": {
        "colab": {
          "base_uri": "https://localhost:8080/"
        },
        "id": "YCZruEvv4yts",
        "outputId": "f1abb03f-d6b9-4dc5-b037-878eea415eea"
      },
      "execution_count": 49,
      "outputs": [
        {
          "output_type": "stream",
          "name": "stdout",
          "text": [
            "Address: 123 Main St, Price: 250000\n",
            "Address: 456 Elm St, Price: 500000, Number of Rooms: 8\n"
          ]
        }
      ]
    }
  ]
}